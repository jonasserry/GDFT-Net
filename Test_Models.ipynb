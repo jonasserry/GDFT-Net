{
 "metadata": {
  "language_info": {
   "codemirror_mode": {
    "name": "ipython",
    "version": 3
   },
   "file_extension": ".py",
   "mimetype": "text/x-python",
   "name": "python",
   "nbconvert_exporter": "python",
   "pygments_lexer": "ipython3",
   "version": "3.7.9-final"
  },
  "orig_nbformat": 2,
  "kernelspec": {
   "name": "Python 3.7.9 64-bit ('ML': conda)",
   "display_name": "Python 3.7.9 64-bit ('ML': conda)",
   "metadata": {
    "interpreter": {
     "hash": "f888d3a4a35fdc4a3d9a571a5e53d3734ae293283f5e229aada3c237990b1734"
    }
   }
  }
 },
 "nbformat": 4,
 "nbformat_minor": 2,
 "cells": [
  {
   "cell_type": "code",
   "execution_count": null,
   "metadata": {},
   "outputs": [],
   "source": [
    "from google.colab import drive\n",
    "drive.mount('/content/drive')"
   ]
  },
  {
   "cell_type": "code",
   "execution_count": null,
   "metadata": {},
   "outputs": [],
   "source": [
    "root_Path = \"/Users/jonasserry/Google Drive/GDFT-Net\"\n",
    "#root_Path = \"/content/drive/My Drive/GDFT-Net\"\n",
    "import sys\n",
    "sys.path.append(root_Path)\n",
    "\n",
    "from Core import GDFT_Data\n",
    "from Core import GDFT_Net\n",
    "from Core import GDFT_Tester\n",
    "import numpy as np\n",
    "import matplotlib.pyplot as plt\n",
    "\n",
    "import tensorflow as tf\n",
    "from tensorflow.keras.callbacks import ModelCheckpoint, LearningRateScheduler, CSVLogger\n",
    "print(tf.__version__)"
   ]
  },
  {
   "cell_type": "code",
   "execution_count": null,
   "metadata": {},
   "outputs": [],
   "source": [
    "from importlib import reload  \n",
    "reload(GDFT_Data)\n",
    "reload(GDFT_Net)\n",
    "reload(GDFT_Tester)"
   ]
  },
  {
   "cell_type": "code",
   "execution_count": null,
   "metadata": {},
   "outputs": [],
   "source": [
    "x,y= 64,64\n",
    "Net_Path = \"Saved_Models/Saved_Nets/TESTNEW({0}x{1}).h5\".format(x,y)\n",
    "Net = GDFT_Net.load_GDFT_Net(Net_Path)"
   ]
  },
  {
   "cell_type": "code",
   "execution_count": null,
   "metadata": {},
   "outputs": [],
   "source": [
    "Net.plot_random_Example(SNR=1.0)"
   ]
  },
  {
   "cell_type": "code",
   "execution_count": null,
   "metadata": {},
   "outputs": [],
   "source": [
    "Tester_Path= \"Saved_Data/lala.pkl\"\n",
    "\n",
    "tester=GDFT_Tester.GDFT_Net_Tester(Tester_Path,Net.path)\n",
    "tester.load_Net()"
   ]
  },
  {
   "cell_type": "code",
   "execution_count": null,
   "metadata": {},
   "outputs": [],
   "source": [
    "SNRs = np.linspace(0.1,2.0,20)\n",
    "n = 5\n",
    "tester.run_RMSE_Testing(n,SNRs)"
   ]
  },
  {
   "cell_type": "code",
   "execution_count": null,
   "metadata": {},
   "outputs": [],
   "source": [
    "SNRs,means,stds = tester.get_error_at_index(32)\n",
    "tester.plot_this_data(SNRs,means,stds)"
   ]
  }
 ]
}
