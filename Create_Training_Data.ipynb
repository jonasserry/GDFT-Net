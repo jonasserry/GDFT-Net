{
 "cells": [
  {
   "cell_type": "markdown",
   "metadata": {},
   "source": [
    "# Start Up\n"
   ]
  },
  {
   "cell_type": "code",
   "execution_count": 1,
   "metadata": {
    "tags": []
   },
   "outputs": [],
   "source": [
    "Path = \"/Users/jonasserry/Google Drive/GDFT-Net\"\n",
    "\n",
    "import sys\n",
    "sys.path.append(Path+\"/Core\")\n",
    "\n",
    "from Core import GDFT_Data\n",
    "import numpy as np\n",
    "import matplotlib.pyplot as plt\n",
    "\n",
    "import GDFT_Sim"
   ]
  },
  {
   "cell_type": "code",
   "execution_count": null,
   "metadata": {
    "tags": []
   },
   "outputs": [],
   "source": [
    "from importlib import reload  \n",
    "reload(GDFT_Data)"
   ]
  },
  {
   "cell_type": "markdown",
   "metadata": {},
   "source": [
    "## Define Desired Params\n"
   ]
  },
  {
   "cell_type": "code",
   "execution_count": null,
   "metadata": {},
   "outputs": [],
   "source": [
    "params = None\n",
    "params = {\n",
    "\"numChan\": 32,\n",
    "\"dimensions\": (512,64),\n",
    "#\"numSteps\" : 25000,\n",
    "\"numSkip\" : 20,\n",
    "\"numCoherent\" : 16,\n",
    "\"numIncoherent\" : 25,\n",
    "\"wavenumberRange\" : (1.5,2.0),\n",
    "\"t0\" : 10\n",
    "}\n",
    "\n",
    "#Warning: dimensions = (x,y) ---> stored in numpy as (y,x)\n",
    "Incoh_to_dec_factor = 2\n",
    "\n",
    "\n",
    "params[\"numSteps\"] = int(params[\"dimensions\"][0]*params[\"numCoherent\"]*params[\"numIncoherent\"]/Incoh_to_dec_factor)\n",
    "print(params[\"numSteps\"])\n",
    "\n",
    "dec_factor = int(params[\"numSteps\"]/params[\"dimensions\"][0])\n",
    "print(dec_factor)"
   ]
  },
  {
   "cell_type": "markdown",
   "metadata": {},
   "source": [
    "## Test Images"
   ]
  },
  {
   "cell_type": "code",
   "execution_count": null,
   "metadata": {
    "tags": []
   },
   "outputs": [],
   "source": [
    "aspect = 1\n",
    "delays = GDFT_Sim.von_karman_temporal_samples(1024*1024*8,t0 = params[\"t0\"],T0=1e4, two_telescopes=True)[0:params[\"numSteps\"]]\n",
    "image,label,Label_1D = GDFT_Data.Create_Image_From_Delays(delays,SNR= 1.0,**params)\n",
    "print(image.shape)\n",
    "fs=(10,5)\n",
    "plt.figure(figsize=fs)\n",
    "plt.imshow(image[:,:,0], cmap=plt.get_cmap('gray_r'),origin=\"lower\",aspect=aspect)\n",
    "plt.figure(figsize=fs)\n",
    "plt.imshow(label[:,:,0], cmap=plt.get_cmap('gray_r'),origin=\"lower\",aspect=aspect)\n",
    "plt.figure(figsize=fs)\n",
    "plt.plot(delays/2/np.pi)\n",
    "\n",
    "x = np.linspace(0,len(delays),len(Label_1D))\n",
    "plt.plot(x,Label_1D)"
   ]
  },
  {
   "cell_type": "code",
   "execution_count": null,
   "metadata": {},
   "outputs": [],
   "source": [
    "i=6\n",
    "s=16\n",
    "plt.figure(figsize=fs)\n",
    "plt.imshow(image[:,i*s:i*s+s,0], cmap=plt.get_cmap('gray_r'),origin=\"lower\",aspect=aspect)\n",
    "plt.figure(figsize=fs)\n",
    "plt.imshow(label[:,i*s:i*s+s,0], cmap=plt.get_cmap('gray_r'),origin=\"lower\",aspect=aspect)"
   ]
  },
  {
   "cell_type": "code",
   "execution_count": null,
   "metadata": {},
   "outputs": [],
   "source": [
    "Image, Label_2D, Label_1D = GDFT_Data.Create_Image(**params)\n",
    "plt.figure()\n",
    "plt.imshow(Image[:,:,0], cmap=plt.get_cmap('gray_r'),origin=\"lower\",aspect=aspect)\n",
    "plt.figure()\n",
    "plt.imshow(Label_2D[:,:,0], cmap=plt.get_cmap('gray_r'),origin=\"lower\",aspect=aspect)\n",
    "plt.figure()\n",
    "plt.plot(Label_1D)"
   ]
  },
  {
   "cell_type": "code",
   "execution_count": null,
   "metadata": {},
   "outputs": [],
   "source": []
  },
  {
   "cell_type": "markdown",
   "metadata": {},
   "source": [
    "## Determine SNR and t0 Structure"
   ]
  },
  {
   "cell_type": "markdown",
   "metadata": {},
   "source": [
    "### Uniform Dist in SNR"
   ]
  },
  {
   "cell_type": "code",
   "execution_count": null,
   "metadata": {
    "tags": []
   },
   "outputs": [],
   "source": [
    "Nums = np.full(20,10)\n",
    "SNRs = [0.1,0.2,0.3,0.4,0.5,0.6,0.7,0.8,0.9,1.0,1.1,1.2,1.3,1.4,1.5,1.6,1.7,1.8,1.9,2.0]\n",
    "print(Nums)\n",
    "print(np.sum(Nums))\n",
    "\n",
    "plt.figure()\n",
    "plt.plot(SNRs,Nums)\n",
    "plt.ylabel(\"Number of Samples\")\n",
    "plt.xlabel(\"SNR\")\n",
    "\n"
   ]
  },
  {
   "cell_type": "markdown",
   "metadata": {},
   "source": [
    "### Normal Dist in SNR"
   ]
  },
  {
   "cell_type": "code",
   "execution_count": null,
   "metadata": {
    "tags": []
   },
   "outputs": [],
   "source": [
    "\n",
    "import scipy.stats as stats\n",
    "\n",
    "SNRs = np.array([0.1,0.2,0.3,0.4,0.5,0.6,0.7,0.8,0.9,1.0,1.1,1.2,1.3,1.4,1.5,1.6,1.7,1.8,1.9,2.0])\n",
    "\n",
    "centered_at = 1.0\n",
    "sigma = 0.6\n",
    "NumImages = 500\n",
    "\n",
    "Nums =  (stats.norm.pdf(SNRs,loc=centered_at ,scale = sigma)*NumImages).astype(int)\n",
    "\n",
    "print(Nums)\n",
    "print(np.sum(Nums))\n",
    "\n",
    "plt.figure()\n",
    "plt.plot(SNRs,Nums)\n",
    "plt.ylabel(\"Number of Samples\")\n",
    "plt.xlabel(\"SNR\")\n",
    "\n"
   ]
  },
  {
   "cell_type": "markdown",
   "metadata": {},
   "source": [
    "## Create Data"
   ]
  },
  {
   "cell_type": "code",
   "execution_count": null,
   "metadata": {
    "tags": []
   },
   "outputs": [],
   "source": [
    "# Creating Single Set\n",
    "id = \"Set(16x64)(10000)\"\n",
    "DS = GDFT_Data.create_Data_Set(id,Nums,SNRs,**params)"
   ]
  },
  {
   "cell_type": "code",
   "execution_count": null,
   "metadata": {},
   "outputs": [],
   "source": [
    "# Creating Multiple chopped sets\n",
    "sets = GDFT_Data.create_Data_Sets(\"TestDATA(500): \",Nums,SNRs,t0=10, numSteps = 64000, y_dim=64,x_dims=[16,32,64,128,256,512], wavenumberRange=(1.5,2.0), numChan = 32, numCoherent=10, numIncoherent=25,numSkip=20)"
   ]
  },
  {
   "cell_type": "markdown",
   "metadata": {},
   "source": [
    "## Inspect Data\n"
   ]
  },
  {
   "cell_type": "code",
   "execution_count": null,
   "metadata": {},
   "outputs": [],
   "source": [
    "DS = sets[0]"
   ]
  },
  {
   "cell_type": "code",
   "execution_count": null,
   "metadata": {},
   "outputs": [],
   "source": [
    "DS.plot_Image_at_Index(5028,aspect=\"auto\",figsize=(5, 15))"
   ]
  },
  {
   "cell_type": "markdown",
   "metadata": {},
   "source": [
    "## Save Data\n",
    "\n"
   ]
  },
  {
   "cell_type": "code",
   "execution_count": null,
   "metadata": {
    "tags": []
   },
   "outputs": [],
   "source": [
    "location = Path+\"/Saved_Data/Training_Data/\"\n",
    "DS.save_As(location)"
   ]
  },
  {
   "cell_type": "code",
   "execution_count": null,
   "metadata": {},
   "outputs": [],
   "source": [
    "location = Path+\"/Saved_Data/Test_Data/\"\n",
    "for DS in set:\n",
    "    DS.save_As(location)"
   ]
  }
 ],
 "metadata": {
  "language_info": {
   "codemirror_mode": {
    "name": "ipython",
    "version": 3
   },
   "file_extension": ".py",
   "mimetype": "text/x-python",
   "name": "python",
   "nbconvert_exporter": "python",
   "pygments_lexer": "ipython3",
   "version": "3.7.9-final"
  },
  "orig_nbformat": 2,
  "kernelspec": {
   "name": "Python 3.7.9 64-bit ('opencv': conda)",
   "display_name": "Python 3.7.9 64-bit ('opencv': conda)",
   "metadata": {
    "interpreter": {
     "hash": "bcb907a46eed2f230a476e44ef17e33a7819a963914bcd8510041563f5edfcc0"
    }
   }
  }
 },
 "nbformat": 4,
 "nbformat_minor": 2
}